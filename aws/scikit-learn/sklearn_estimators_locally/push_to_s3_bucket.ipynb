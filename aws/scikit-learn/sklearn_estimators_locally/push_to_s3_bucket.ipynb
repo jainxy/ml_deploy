{
 "cells": [
  {
   "cell_type": "code",
   "execution_count": null,
   "metadata": {},
   "outputs": [],
   "source": [
    "import boto3\n",
    "bucket = 'sagemaker-learning-to-deploy-scikitlearn'\n",
    "region = 'us-east-2'\n",
    "s3_session = boto3.Session().resource('s3')\n",
    "s3_session.create_bucket(Bucket=bucket, \n",
    "                         CreateBucketConfiguration=\n",
    "                         {'LocationConstraint': region})\n",
    "s3_session.Bucket(bucket).Object('train/train.csv').upload_file('train.csv')"
   ]
  }
 ],
 "metadata": {
  "kernelspec": {
   "display_name": "Python 3",
   "language": "python",
   "name": "python3"
  },
  "language_info": {
   "codemirror_mode": {
    "name": "ipython",
    "version": 3
   },
   "file_extension": ".py",
   "mimetype": "text/x-python",
   "name": "python",
   "nbconvert_exporter": "python",
   "pygments_lexer": "ipython3",
   "version": "3.7.4"
  }
 },
 "nbformat": 4,
 "nbformat_minor": 2
}
